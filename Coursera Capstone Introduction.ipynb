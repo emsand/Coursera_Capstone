{
 "cells": [
  {
   "cell_type": "markdown",
   "metadata": {},
   "source": [
    "## Introduction/Business Problem  \n",
    "\n",
    "Compare venues between two very popular tourist destinations: New York City and Toronto. Recognized as the economic centers of their respective countries,this study will cluster neighbors to determine similarities in the venues that support the activities of each population center.\n",
    "\n"
   ]
  },
  {
   "cell_type": "markdown",
   "metadata": {},
   "source": [
    "Event planners can use venue information to suggest appropiate activities and events for each location. Neighborhood analysis can assist with personal and business relocation and help make inquires relevant for specified preferences."
   ]
  },
  {
   "cell_type": "markdown",
   "metadata": {},
   "source": [
    "## Project Description"
   ]
  },
  {
   "cell_type": "markdown",
   "metadata": {},
   "source": [
    "Leveraging the power of Foursquare, access to venue information specific to individual preferences will enhance the user experience. Typically search engines return many results based on certain criteria leading the user to explore many options trying to make a decision. With information specific to areas divided into clusters, only relevant data is considered with information gleaned from customer feedback. This subsetting makes comparisions easy, and helps to provide insight into new areas to explore.  "
   ]
  },
  {
   "cell_type": "markdown",
   "metadata": {},
   "source": [
    "Using Foursquare, a listing of the top 10 most common venues in each neighborhood will help users avoid the fatigue of too many choices. K-Means clustering, a tool for unsupervised maching learning, will be used to cluster venues to determine customer preferences for social activities."
   ]
  },
  {
   "cell_type": "markdown",
   "metadata": {},
   "source": [
    "### Location Data: Foursquare API \n",
    "Foursquare, a popular user database that catalogues information for more than 105 million locations, provides specific search information regarding locations including photos, reviews that help clients make timely decisions. Using the Foursquare API server to provide information using the zipcodes of NYC and Toronto, geospatial information provided as inputs to a Python visualization tool (Folium) will help visually cluster neighborhoods for comparison. "
   ]
  },
  {
   "cell_type": "markdown",
   "metadata": {},
   "source": [
    "### Python Libraries"
   ]
  },
  {
   "cell_type": "markdown",
   "metadata": {},
   "source": [
    "- Pandas \n",
    "- NumPy\n",
    "- JSON \n",
    "- Requests \n",
    "- Matplotlib \n",
    "- Sklearn \n",
    "- Folium \n",
    "- Geopy\n"
   ]
  }
 ],
 "metadata": {
  "kernelspec": {
   "display_name": "Python 3",
   "language": "python",
   "name": "python3"
  },
  "language_info": {
   "codemirror_mode": {
    "name": "ipython",
    "version": 3
   },
   "file_extension": ".py",
   "mimetype": "text/x-python",
   "name": "python",
   "nbconvert_exporter": "python",
   "pygments_lexer": "ipython3",
   "version": "3.6.5"
  }
 },
 "nbformat": 4,
 "nbformat_minor": 2
}
